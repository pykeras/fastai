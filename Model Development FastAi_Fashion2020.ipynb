{
 "cells": [
  {
   "cell_type": "code",
   "execution_count": null,
   "metadata": {
    "_cell_guid": "79c7e3d0-c299-4dcb-8224-4455121ee9b0",
    "_uuid": "d629ff2d2480ee46fbb7e2d37f6b5fab8052498a"
   },
   "outputs": [],
   "source": [
    "import os, glob , pandas as pd\n",
    "from fastai import *\n",
    "from fastai.vision import *"
   ]
  },
  {
   "cell_type": "code",
   "execution_count": null,
   "metadata": {},
   "outputs": [],
   "source": [
    "train_image_path = glob.glob('../input/imaterialist-fashion-2020-fgvc7/train/*.jpg')"
   ]
  },
  {
   "cell_type": "code",
   "execution_count": null,
   "metadata": {},
   "outputs": [],
   "source": [
    "with open('../input/imaterialist-fashion-2020-fgvc7/label_descriptions.json') as f:\n",
    "    label_descriptions = json.load(f)\n",
    "    \n",
    "label_names = [x['name'] for x in label_descriptions['categories']]\n",
    "num_categories = len(label_names)"
   ]
  },
  {
   "cell_type": "code",
   "execution_count": null,
   "metadata": {},
   "outputs": [],
   "source": [
    "img_path = '../input/imaterialist-fashion-2020-fgvc7/train/'\n",
    "label_path = '../input/fashion-segmentation-preprocessing/masks/'\n",
    "get_label = lambda x: label_path + (str(x).split('/')[-1]).split('.')[0] + '.png'"
   ]
  },
  {
   "cell_type": "code",
   "execution_count": null,
   "metadata": {},
   "outputs": [],
   "source": [
    "# Check whether the model work, or not before run on all data\n",
    "\n",
    "# sample = train_image_path[1:501]\n",
    "# # os.makedirs('./sample/')\n",
    "# # os.makedirs('./masks/')\n",
    "# for item in sample:\n",
    "# #     print(item)\n",
    "# #     break\n",
    "#     filename = item.split('/')[-1]\n",
    "#     maskname = filename.split('.')[0]\n",
    "#     out = './sample/'+filename\n",
    "#     srcmask = '../input/fashion-segmentation-preprocessing/masks/'+maskname+'.png'\n",
    "#     outmask = './masks/'+maskname+'.png'\n",
    "#     shutil.copyfile(item, out)\n",
    "#     shutil.copyfile(srcmask, outmask)\n",
    "    \n",
    "# img_path = './sample/'\n",
    "# label_path = './masks/'"
   ]
  },
  {
   "cell_type": "code",
   "execution_count": null,
   "metadata": {},
   "outputs": [],
   "source": [
    "img = open_image(train_image_path[10])\n",
    "mask = open_mask(get_label(train_image_path[10]))\n",
    "_,axs = plt.subplots(1,3, figsize=(10,10))\n",
    "img.show(ax=axs[0], title='no mask')\n",
    "img.show(ax=axs[1], y=mask, title='masked')\n",
    "mask.show(ax=axs[2], title='mask only', alpha=1.)"
   ]
  },
  {
   "cell_type": "code",
   "execution_count": null,
   "metadata": {},
   "outputs": [],
   "source": [
    "codes = list(range(num_categories))\n",
    "wd = 1e-2"
   ]
  },
  {
   "cell_type": "code",
   "execution_count": null,
   "metadata": {},
   "outputs": [],
   "source": [
    "src_data = (SegmentationItemList.from_folder(img_path)\\\n",
    "            .split_by_rand_pct(valid_pct=0.1, seed=42)\\\n",
    "            .label_from_func(get_label, classes=codes))"
   ]
  },
  {
   "cell_type": "code",
   "execution_count": null,
   "metadata": {},
   "outputs": [],
   "source": [
    "data = (src_data.transform(get_transforms(), size=224, tfm_y=True)\\\n",
    "        .databunch(bs=50).normalize(imagenet_stats)) #num_worker=2 should be used to speed up batch load"
   ]
  },
  {
   "cell_type": "code",
   "execution_count": null,
   "metadata": {},
   "outputs": [],
   "source": [
    "data.show_batch(rows=3)"
   ]
  },
  {
   "cell_type": "code",
   "execution_count": null,
   "metadata": {},
   "outputs": [],
   "source": [
    "data.label_list"
   ]
  },
  {
   "cell_type": "code",
   "execution_count": null,
   "metadata": {},
   "outputs": [],
   "source": [
    "def acc_fashion(input, target):\n",
    "    target = target.squeeze(1)\n",
    "    mask = target != 28 # num_categories \n",
    "    return (input.argmax(dim=1)==target).float().mean()"
   ]
  },
  {
   "cell_type": "code",
   "execution_count": null,
   "metadata": {},
   "outputs": [],
   "source": [
    "segment_learner = unet_learner(data, models.resnet34, metrics=acc_fashion, \n",
    "                               model_dir='/kaggle/working/models')"
   ]
  },
  {
   "cell_type": "code",
   "execution_count": null,
   "metadata": {},
   "outputs": [],
   "source": [
    "# segment_learner.lr_find()\n",
    "# segment_learner.recorder.plot()"
   ]
  },
  {
   "cell_type": "code",
   "execution_count": null,
   "metadata": {},
   "outputs": [],
   "source": [
    "segment_learner.fit_one_cycle(4, max_lr=slice(1e-06, 1e-03))"
   ]
  },
  {
   "cell_type": "code",
   "execution_count": null,
   "metadata": {},
   "outputs": [],
   "source": []
  }
 ],
 "metadata": {
  "kernelspec": {
   "display_name": "Python 3",
   "language": "python",
   "name": "python3"
  },
  "language_info": {
   "codemirror_mode": {
    "name": "ipython",
    "version": 3
   },
   "file_extension": ".py",
   "mimetype": "text/x-python",
   "name": "python",
   "nbconvert_exporter": "python",
   "pygments_lexer": "ipython3",
   "version": "3.7.5"
  }
 },
 "nbformat": 4,
 "nbformat_minor": 4
}
