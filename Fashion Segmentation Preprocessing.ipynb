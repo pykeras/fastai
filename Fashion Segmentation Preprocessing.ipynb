{
 "cells": [
  {
   "cell_type": "markdown",
   "metadata": {},
   "source": [
    "\"developed by : aipythoner@gmail.com\" \n",
    "\n",
    "I'm a tensorflow(keras) user and try to learn how fastai library work, but prefer to do it on realworld datasets\n",
    "\n",
    "Developed model and results can be found on my [Github](https://github.com/pykeras?tab=repositories)"
   ]
  },
  {
   "cell_type": "code",
   "execution_count": null,
   "metadata": {
    "_cell_guid": "79c7e3d0-c299-4dcb-8224-4455121ee9b0",
    "_uuid": "d629ff2d2480ee46fbb7e2d37f6b5fab8052498a"
   },
   "outputs": [],
   "source": [
    "import numpy as np\n",
    "import pandas as pd\n",
    "import glob, os, json, cv2, skimage, shutil\n",
    "from fastai import *\n",
    "from fastai.vision import * \n",
    "from progressbar import ProgressBar\n",
    "from skimage import io"
   ]
  },
  {
   "cell_type": "code",
   "execution_count": null,
   "metadata": {},
   "outputs": [],
   "source": [
    "train_image_path = glob.glob('../input/imaterialist-fashion-2020-fgvc7/train/*.jpg')\n",
    "train_csv = pd.read_csv('../input/imaterialist-fashion-2020-fgvc7/train.csv', index_col=['ImageId'])\n",
    "train_csv.head(1)\n",
    "# train_image_path = train_image_path[0:5]"
   ]
  },
  {
   "cell_type": "code",
   "execution_count": null,
   "metadata": {},
   "outputs": [],
   "source": [
    "with open('../input/imaterialist-fashion-2020-fgvc7/label_descriptions.json') as f:\n",
    "    label_descriptions = json.load(f)\n",
    "    \n",
    "label_names = [x['name'] for x in label_descriptions['categories']]\n",
    "\n",
    " # 1 for background"
   ]
  },
  {
   "cell_type": "markdown",
   "metadata": {},
   "source": [
    "46 apparel objects (27 main apparel items and 19 apparel parts) from description"
   ]
  },
  {
   "cell_type": "code",
   "execution_count": null,
   "metadata": {},
   "outputs": [],
   "source": [
    "num_categories = 27 + 1 #(add 1 for background)"
   ]
  },
  {
   "cell_type": "code",
   "execution_count": null,
   "metadata": {},
   "outputs": [],
   "source": [
    "def create_mask(df):\n",
    "    mask_h = df.at[0, 'Height']\n",
    "    mask_w = df.at[0, 'Width']\n",
    "    mask = np.full(mask_w*mask_h, num_categories-1, dtype=np.int32)\n",
    "    \n",
    "    for encode_pixels, encode_labels in zip(df.EncodedPixels.values, df.ClassId.values):\n",
    "        pixels = list(map(int, encode_pixels.split(' ')))\n",
    "        for i in range(0,len(pixels), 2):\n",
    "            start_pixel = pixels[i]-1 #index from 0\n",
    "            len_mask = pixels[i+1]-1\n",
    "            end_pixel = start_pixel + len_mask\n",
    "            if int(encode_labels) < num_categories - 1:\n",
    "                mask[start_pixel:end_pixel] = int(encode_labels)\n",
    "            \n",
    "    mask = mask.reshape((mask_h, mask_w), order='F')\n",
    "    return mask"
   ]
  },
  {
   "cell_type": "code",
   "execution_count": null,
   "metadata": {},
   "outputs": [],
   "source": [
    "if not os.path.exists('./masks'):\n",
    "    os.makedirs('./masks')"
   ]
  },
  {
   "cell_type": "code",
   "execution_count": null,
   "metadata": {},
   "outputs": [],
   "source": [
    "for file in ProgressBar()(train_image_path):\n",
    "    file_name = file.split('/')[-1]\n",
    "    file_id = file_name.split('.')[0]\n",
    "    df = train_csv.loc[file_id]\n",
    "    if \"Series\" in str(type(df)):\n",
    "        df = DataFrame([df.to_list()],  columns=['EncodedPixels', 'Height', \\\n",
    "                                                  'Width','ClassId',  'AttributesIds'])\n",
    "        \n",
    "    try:\n",
    "        mask = create_mask(df.reset_index())\n",
    "    except:\n",
    "        print(file_id)\n",
    "    \n",
    "    mask_rgb = np.dstack((mask, mask, mask))\n",
    "    cv2.imwrite('./masks/'+file_id+'.png', mask_rgb)\n",
    "\n",
    "#     plt.imsave('./masks/'+file_name, mask)\n",
    "\n",
    "#     io.imsave('./masks/'+file_name, mask)"
   ]
  },
  {
   "cell_type": "code",
   "execution_count": null,
   "metadata": {},
   "outputs": [],
   "source": [
    "img_path = '../input/imaterialist-fashion-2020-fgvc7/train/'\n",
    "label_path = './masks/'\n",
    "get_label = lambda x: label_path + (str(x).split('/')[-1]).split('.')[0] + '.png'"
   ]
  },
  {
   "cell_type": "code",
   "execution_count": null,
   "metadata": {},
   "outputs": [],
   "source": [
    "img = open_image(train_image_path[1])\n",
    "mask = open_mask(get_label(train_image_path[1]))\n",
    "_,axs = plt.subplots(1,3, figsize=(10,10))\n",
    "img.show(ax=axs[0], title='no mask')\n",
    "img.show(ax=axs[1], y=mask, title='masked')\n",
    "mask.show(ax=axs[2], title='mask only', alpha=1.)"
   ]
  }
 ],
 "metadata": {
  "kernelspec": {
   "display_name": "Python 3",
   "language": "python",
   "name": "python3"
  },
  "language_info": {
   "codemirror_mode": {
    "name": "ipython",
    "version": 3
   },
   "file_extension": ".py",
   "mimetype": "text/x-python",
   "name": "python",
   "nbconvert_exporter": "python",
   "pygments_lexer": "ipython3",
   "version": "3.7.5"
  }
 },
 "nbformat": 4,
 "nbformat_minor": 4
}
